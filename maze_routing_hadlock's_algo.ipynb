{
 "cells": [
  {
   "cell_type": "markdown",
   "metadata": {
    "scrolled": true
   },
   "source": [
    "  #      MAZE ROUTING - HADLOCK'S ALGORITM \n"
   ]
  },
  {
   "cell_type": "code",
   "execution_count": 37,
   "metadata": {},
   "outputs": [
    {
     "name": "stdout",
     "output_type": "stream",
     "text": [
      "Requirement already satisfied: pygame in c:\\users\\harshitha\\anaconda3\\lib\\site-packages (2.0.1)\n"
     ]
    }
   ],
   "source": [
    "!pip install pygame"
   ]
  },
  {
   "cell_type": "code",
   "execution_count": 38,
   "metadata": {},
   "outputs": [],
   "source": [
    "import pygame\n",
    "from pygame.locals import *\n",
    "from queue import PriorityQueue\n",
    "#pygame.init()\n"
   ]
  },
  {
   "cell_type": "markdown",
   "metadata": {},
   "source": [
    "    Class node which corresponds to single rectangle in a grid, holds the node(pixel) information like its dimensions,color         and its neighbors. "
   ]
  },
  {
   "cell_type": "code",
   "execution_count": 39,
   "metadata": {},
   "outputs": [],
   "source": [
    "class node:\n",
    "    \n",
    "    def __init__(self, x, y, gap):\n",
    "        \n",
    "        self.row = x                           \n",
    "        self.col = y\n",
    "        self.width= gap\n",
    "        self.color=(255, 255, 255)\n",
    "        self.neighbors=[]\n",
    "    \n",
    "        \n",
    "    def get_pos(self):\n",
    "        return self.row//self.width, self.col//self.width\n",
    "    \n",
    "    def make_block(self):\n",
    "        self.color=pygame.Color('cyan')\n",
    "      \n",
    "    def is_barrier(self):\n",
    "        return (self.color == pygame.Color('cyan') or self.color ==pygame.Color(\"yellow\"))\n",
    "    \n",
    "    def is_open(self):\n",
    "        return self.color == pygame.Color('white')\n",
    "    \n",
    "    def draw(self):\n",
    "        pygame.draw.rect(WIN, self.color, (self.row, self.col, self.width, self.width))\n",
    "        \n",
    "    def addtext(self, text_):\n",
    "        pygame.font.init()\n",
    "        font = pygame.font.Font('freesansbold.ttf', 10)\n",
    "        text = font.render(text_, True, (0,0,0), self.color)\n",
    "        \n",
    "        WIN.blit(text, (self.row, self.col, self.width+self.row, self.col+self.width))\n",
    "        pygame.display.update()\n",
    "\n",
    "\n"
   ]
  },
  {
   "cell_type": "markdown",
   "metadata": {},
   "source": [
    "   Class grid_: It forms connection between grid lines and nodes which helps in accessing all nodes"
   ]
  },
  {
   "cell_type": "code",
   "execution_count": 40,
   "metadata": {},
   "outputs": [],
   "source": [
    "class grid_:\n",
    "    \n",
    "    def __init__(self,  rows, width):\n",
    "        self.gap = width//rows\n",
    "        self.rows= rows\n",
    "        self.width = width\n",
    "        self.gap = self.width // self.rows\n",
    "        \n",
    "    def form(self):\n",
    "        grid= []\n",
    "       \n",
    "        for i in range(0,self.rows):\n",
    "            grid.append([])\n",
    "            for j in range(0, self.rows):\n",
    "            \n",
    "                grid[i].append(node(i*self.gap,j*self.gap, self.gap))\n",
    "        return grid\n",
    "                "
   ]
  },
  {
   "cell_type": "markdown",
   "metadata": {},
   "source": [
    "   Some parameters that can be varied to change pygame screen settings"
   ]
  },
  {
   "cell_type": "code",
   "execution_count": 41,
   "metadata": {},
   "outputs": [],
   "source": [
    "WIDTH= 600                       ## WIDTH of pygame GUI screen\n",
    "rows_=40                          ## Number of rows in grid\n",
    "axis=3                          ##Setting axis so that output appears at the centre of pygame screen"
   ]
  },
  {
   "cell_type": "markdown",
   "metadata": {},
   "source": [
    "  Module create_block : Given coordinates and dimensions of block, colors rectangles inside that block so that they can be identified as obstacles or barrier."
   ]
  },
  {
   "cell_type": "code",
   "execution_count": 42,
   "metadata": {},
   "outputs": [],
   "source": [
    "        \n",
    "def create_block(x, y, w, h, gap, grid):\n",
    "    \n",
    "    \n",
    "    for i in list(range(x+axis, (x+w+axis))):\n",
    "         for j in list(range(y+axis, y+h+axis)):\n",
    "            \n",
    "            grid[i][j].make_block()\n",
    "            \n",
    "    \n",
    "        "
   ]
  },
  {
   "cell_type": "markdown",
   "metadata": {},
   "source": [
    "Module draw_grid : Draws grid lines on pygame screen"
   ]
  },
  {
   "cell_type": "code",
   "execution_count": 43,
   "metadata": {},
   "outputs": [],
   "source": [
    "def draw_grid(win, rows, width):\n",
    "    gap = width // rows\n",
    "    \n",
    "    for i in range(rows):\n",
    "        pygame.draw.line(win, pygame.Color('GREY'), (0, i * gap), (width, i * gap))\n",
    "        for j in range(rows):\n",
    "            pygame.draw.line(win, pygame.Color('GREY'), (j * gap, 0), (j * gap, width))"
   ]
  },
  {
   "cell_type": "markdown",
   "metadata": {},
   "source": [
    "draw : Very important module, it displays all blocks, pins and path."
   ]
  },
  {
   "cell_type": "code",
   "execution_count": 44,
   "metadata": {},
   "outputs": [],
   "source": [
    "def draw(win, grid, rows, width):\n",
    "    \n",
    "\n",
    "    for row in range(0, rows):\n",
    "        for spot in range(0,rows):\n",
    "        \n",
    "            grid[row][spot].draw()\n",
    "\n",
    "    draw_grid(win, rows, width)\n",
    "    pygame.display.update()\n"
   ]
  },
  {
   "cell_type": "markdown",
   "metadata": {},
   "source": [
    "create_pins : Adds identification color to pins (i.e, nodes that acts as pins ) "
   ]
  },
  {
   "cell_type": "code",
   "execution_count": 45,
   "metadata": {},
   "outputs": [],
   "source": [
    "    \n",
    "def create_pins(x1,y1,x2,y2,grid,i):\n",
    "\n",
    "    start=grid[x1+axis][y1+axis]\n",
    "    grid[x1+axis][y1+axis].color = pygame.Color('green')\n",
    "    \n",
    "    end = grid[x2+axis][ y2+axis]\n",
    "    grid[x2+axis][y2+axis].color = pygame.Color('green')\n",
    "    \n",
    "    return start, end"
   ]
  },
  {
   "cell_type": "markdown",
   "metadata": {},
   "source": [
    "update_neighbors : Updates each neighbor, giving information whether its neighbors are blocks or a node which is part of already existing path. "
   ]
  },
  {
   "cell_type": "code",
   "execution_count": 46,
   "metadata": {},
   "outputs": [],
   "source": [
    "\n",
    "def update_neighbors(row,col, grid):\n",
    "        neighbors = []\n",
    "        \n",
    "        if (0 < row < len(grid[0])) and not grid[row + 1][col].is_barrier():  # DOWN\n",
    "            neighbors.append(grid[row + 1][col])\n",
    "\n",
    "        if row > 0 and not grid[row - 1][col].is_barrier(): #UP\n",
    "            neighbors.append(grid[row - 1][col])\n",
    "\n",
    "        if 0<col < len(grid[0]) and not grid[row][col + 1].is_barrier(): #RIGHT\n",
    "            neighbors.append(grid[row][col + 1])\n",
    "\n",
    "        if col > 0 and not grid[row][col - 1].is_barrier(): #LEFT\n",
    "            neighbors.append(grid[row][col - 1])\n",
    "       \n",
    "        return neighbors"
   ]
  },
  {
   "cell_type": "markdown",
   "metadata": {},
   "source": [
    "   ALGORITHM MODULE AND ITS HELPER MODULES"
   ]
  },
  {
   "cell_type": "code",
   "execution_count": 47,
   "metadata": {},
   "outputs": [],
   "source": [
    "\n",
    "def h(p1, p2):\n",
    "    x1, y1 = p1\n",
    "    x2, y2 = p2\n",
    "    return abs(x1 - x2) + abs(y1 - y2)\n",
    "\n",
    "\n",
    "def reconstruct_path(came_from, current, draw):\n",
    "    color = pygame.Color(\"yellow\")\n",
    "    wirelength=0   \n",
    "    while current in came_from:\n",
    "        current = came_from[current]\n",
    "        current.color = color\n",
    "        wirelength+=1\n",
    "        draw()\n",
    "    return wirelength\n",
    "\n",
    "def algorithm(draw, grid, start, end):\n",
    "    count = 0\n",
    "    open_set = PriorityQueue()\n",
    "    open_set.put((0, count, start))\n",
    "    came_from = {};\n",
    "\n",
    "    g_score = {spot: float(\"inf\") for row in grid for spot in row}\n",
    "    g_score[start] = 0\n",
    "    f_score = {spot: float(\"inf\") for row in grid for spot in row}\n",
    "    f_score[start] = h(start.get_pos(), end.get_pos())\n",
    "    wirelength=0\n",
    "    open_set_hash = {start}\n",
    "    while not open_set.empty():\n",
    "        for event in pygame.event.get():\n",
    "            if event.type == pygame.QUIT:\n",
    "                 pygame.quit()\n",
    "\n",
    "        current = open_set.get()[2]\n",
    "        x, y = current.get_pos()\n",
    "        neighbors=[]\n",
    "        current.neighbors = update_neighbors(x, y, grid)\n",
    "        open_set_hash.remove(current)\n",
    "\n",
    "        if current == end:\n",
    "            end.color = pygame.Color(\"yellow\")\n",
    "            wirelen=reconstruct_path(came_from, end, draw)\n",
    "            \n",
    "            return wirelen, came_from\n",
    "\n",
    "        for neighbor in current.neighbors:\n",
    "                temp_g_score = g_score[current] + 1\n",
    "\n",
    "                if temp_g_score < g_score[neighbor]:\n",
    "                     came_from[neighbor] = current\n",
    "                g_score[neighbor] = temp_g_score\n",
    "                f_score[neighbor] = temp_g_score + h(neighbor.get_pos(), end.get_pos())\n",
    "                if neighbor not in open_set_hash:\n",
    "                    count += 1\n",
    "                    open_set.put((f_score[neighbor], count, neighbor))\n",
    "                    open_set_hash.add(neighbor)\n",
    "        draw()       \n",
    "         \n",
    "   # return 0, 0\n",
    "        \n",
    "      \n"
   ]
  },
  {
   "cell_type": "code",
   "execution_count": 48,
   "metadata": {},
   "outputs": [
    {
     "name": "stdout",
     "output_type": "stream",
     "text": [
      "Pin Ids : Netlength\n",
      "1       : 16 units\n",
      "2       : 36 units\n",
      "3       : 18 units\n",
      "4       : 25 units\n",
      "5       : 37 units\n"
     ]
    }
   ],
   "source": [
    "\n",
    "WIN = pygame.display.set_mode((WIDTH, WIDTH), pygame.RESIZABLE)\n",
    "pygame.display.set_caption(\"Hadlock's Routing Algorithm\")\n",
    "WIN.fill(pygame.Color('WHITE'))\n",
    "\n",
    "def main(win):\n",
    "    rows=rows_;\n",
    "    gri = grid_(rows, WIDTH)\n",
    "    grid = gri.form()\n",
    "    gap = WIDTH//rows\n",
    "    draw(win, grid, rows, WIDTH)\n",
    "    \n",
    "    #############################################################################\n",
    "    ##              Given test data inputs of blocks                           ##\n",
    "    ##                 Can modify blocks or pins                               ##\n",
    "    #############################################################################\n",
    "    \n",
    "    blocks = [[1, 0, 0, 7, 9],\n",
    "              [2, 11,8, 6, 8],\n",
    "              [3, 0, 23, 16, 6]]\n",
    "              #[4, 20,20,7,8]]\n",
    "    \n",
    "    \n",
    "      \n",
    "    pins = [[1, 7, 0, 11, 12],\n",
    "            [2, 14, 8, 1, 9],\n",
    "            [3, 1, 23, 16, 24],\n",
    "            [4, 14, 16, 8, 29],\n",
    "            [5, 1, 29, 17, 12]]\n",
    "            #[6, 21,20, 27,27]\n",
    "    \n",
    "    #############################################################################\n",
    "    \n",
    "    \n",
    "    ######################### Creating Blocks on Pygame Screen ########################\n",
    "    \n",
    "    for i in range(len(blocks)):\n",
    "        create_block(blocks[i][1], blocks[i][2], blocks[i][3], blocks[i][4], gap, grid)\n",
    "    draw(win, grid, rows, WIDTH)\n",
    "    \n",
    "    ######################### Analysing Pin Information ###############################\n",
    "    \n",
    "    start =[None]*len(pins)\n",
    "    end = [None]*len(pins)\n",
    "    for i in range(len(pins)):\n",
    "        start[i], end[i] = create_pins(pins[i][1],pins[i][2], pins[i][3], pins[i][4], grid, i)    \n",
    "    draw(win, grid, rows, WIDTH)\n",
    "    \n",
    "        \n",
    "    wirelen =[None]*len(pins)\n",
    "    wirelength =[None]*len(pins)\n",
    "    path={}\n",
    "    k={}\n",
    "    ######################## Calling algorithm to form path ###########################\n",
    "    \n",
    "    for i in range(len(pins)):\n",
    "        \n",
    "        wirelength[i], path[i]=algorithm(lambda: draw(win, grid, rows, WIDTH), grid, start[i], end[i])\n",
    "        \n",
    "    draw(win, grid, rows, WIDTH)\n",
    "    \n",
    "    #####################    NAMING BLOCK ID'S, PIN ID'S AND NET ID'S ##################################\n",
    "    \n",
    "    for i in range(len(blocks)):\n",
    "        grid[blocks[i][1]+axis+(blocks[i][3]//2)][blocks[i][2]+axis+(blocks[i][4]//2)].addtext('B'+str(blocks[i][0])+' ('+str(blocks[i][3])+','+str( blocks[i][4])+')')\n",
    "    \n",
    "       \n",
    "    for i in range(len(pins)):\n",
    "        current=end[i]\n",
    "        \n",
    "        while current in path[i]:\n",
    "            current=path[i][current]\n",
    "            current.addtext('N'+str(pins[i][0]))\n",
    "    \n",
    "    for i in range(len(pins)):\n",
    "        start[i].color = pygame.Color('green')\n",
    "        end[i].color = pygame.Color('green')\n",
    "        start[i].draw()\n",
    "        end[i].draw()\n",
    "        start[i].addtext('P'+str(pins[i][0]))\n",
    "        end[i].addtext('P'+str(pins[i][0]))\n",
    "     \n",
    " \n",
    "    print ('Pin Ids : Netlength' )\n",
    "    for i in range(len(pins)):\n",
    "        print( str(pins[i][0])+'       : '+str(wirelength[i])+' units')\n",
    "   \n",
    "    done = False\n",
    "    while not done:\n",
    "        for event in pygame.event.get():\n",
    "            if event.type == pygame.QUIT:\n",
    "                done = True\n",
    "    pygame.quit()  \n",
    "main(WIN)"
   ]
  },
  {
   "cell_type": "code",
   "execution_count": null,
   "metadata": {},
   "outputs": [],
   "source": []
  },
  {
   "cell_type": "markdown",
   "metadata": {},
   "source": [
    "\n",
    "NOTE: Pygame display has (0,0) at top right corner. \n",
    "\n",
    "I have set axis=3 which shifts blocks to 3 units right and 3 units down. This is done to observe blocks at center of display.  \n",
    "\n"
   ]
  },
  {
   "cell_type": "code",
   "execution_count": null,
   "metadata": {},
   "outputs": [],
   "source": []
  },
  {
   "cell_type": "code",
   "execution_count": null,
   "metadata": {},
   "outputs": [],
   "source": []
  }
 ],
 "metadata": {
  "kernelspec": {
   "display_name": "Python 3",
   "language": "python",
   "name": "python3"
  },
  "language_info": {
   "codemirror_mode": {
    "name": "ipython",
    "version": 3
   },
   "file_extension": ".py",
   "mimetype": "text/x-python",
   "name": "python",
   "nbconvert_exporter": "python",
   "pygments_lexer": "ipython3",
   "version": "3.7.4"
  }
 },
 "nbformat": 4,
 "nbformat_minor": 2
}
